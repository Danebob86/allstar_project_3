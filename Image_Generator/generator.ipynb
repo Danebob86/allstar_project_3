{
 "cells": [
  {
   "cell_type": "code",
   "execution_count": 1,
   "id": "5380eddc-99e2-4b99-876d-484374d4f798",
   "metadata": {},
   "outputs": [],
   "source": [
    "import eagleXML"
   ]
  },
  {
   "cell_type": "code",
   "execution_count": 2,
   "id": "d8ec101c-f50b-4890-80fb-94eb57486623",
   "metadata": {},
   "outputs": [],
   "source": [
    "import generator\n"
   ]
  },
  {
   "cell_type": "code",
   "execution_count": 3,
   "id": "71ae57f9-7321-495d-9bf0-e362e29c678d",
   "metadata": {},
   "outputs": [
    {
     "name": "stdout",
     "output_type": "stream",
     "text": [
      "🚨 Someone tried to generate bbb again on 2021-09-29 14:09:59.715937 🚨\n"
     ]
    }
   ],
   "source": [
    "generator.writeImage('bbb')"
   ]
  },
  {
   "cell_type": "code",
   "execution_count": 4,
   "id": "fe9ccfb1-9808-4eaf-ae0b-d607ebffb216",
   "metadata": {},
   "outputs": [],
   "source": [
    "eagles = generator.generateRandomSet('abcx', 3)"
   ]
  },
  {
   "cell_type": "code",
   "execution_count": 5,
   "id": "e8714792-84d9-4251-b8bb-8aff154f793e",
   "metadata": {},
   "outputs": [
    {
     "name": "stdout",
     "output_type": "stream",
     "text": [
      "🦅 bcb generated on 2021-09-29 14:09:59.867599 ✅\n",
      "🦅 acb generated on 2021-09-29 14:10:00.061098 ✅\n",
      "🦅 bbc generated on 2021-09-29 14:10:00.310781 ✅\n",
      "🦅 bab generated on 2021-09-29 14:10:00.453221 ✅\n",
      "🦅 cba generated on 2021-09-29 14:10:00.604981 ✅\n",
      "🦅 abx generated on 2021-09-29 14:10:00.959628 ✅\n",
      "🦅 cax generated on 2021-09-29 14:10:01.207694 ✅\n",
      "🚨 Someone tried to generate bcx again on 2021-09-29 14:10:01.207938 🚨\n",
      "🦅 bac generated on 2021-09-29 14:10:01.488902 ✅\n",
      "🦅 bcc generated on 2021-09-29 14:10:01.730403 ✅\n",
      "🦅 bba generated on 2021-09-29 14:10:01.855829 ✅\n",
      "🦅 cbb generated on 2021-09-29 14:10:01.992692 ✅\n",
      "🦅 cbc generated on 2021-09-29 14:10:02.244563 ✅\n",
      "🦅 aac generated on 2021-09-29 14:10:02.553336 ✅\n",
      "🦅 bax generated on 2021-09-29 14:10:02.789481 ✅\n",
      "🚨 Someone tried to generate abb again on 2021-09-29 14:10:02.789991 🚨\n",
      "🦅 acx generated on 2021-09-29 14:10:03.083464 ✅\n",
      "🚨 Someone tried to generate bbb again on 2021-09-29 14:10:03.083977 🚨\n",
      "🦅 cab generated on 2021-09-29 14:10:03.217029 ✅\n",
      "🦅 baa generated on 2021-09-29 14:10:03.342474 ✅\n",
      "🦅 aab generated on 2021-09-29 14:10:03.537967 ✅\n",
      "🦅 ccx generated on 2021-09-29 14:10:03.767676 ✅\n",
      "🦅 ccb generated on 2021-09-29 14:10:03.901222 ✅\n",
      "🦅 ccc generated on 2021-09-29 14:10:04.148886 ✅\n",
      "🦅 aca generated on 2021-09-29 14:10:04.355378 ✅\n",
      "🦅 cac generated on 2021-09-29 14:10:04.605872 ✅\n",
      "🦅 bbx generated on 2021-09-29 14:10:04.826448 ✅\n",
      "🦅 aax generated on 2021-09-29 14:10:05.140008 ✅\n",
      "🦅 cca generated on 2021-09-29 14:10:05.283859 ✅\n",
      "🦅 bca generated on 2021-09-29 14:10:05.432813 ✅\n",
      "🦅 acc generated on 2021-09-29 14:10:05.768314 ✅\n",
      "🦅 cbx generated on 2021-09-29 14:10:06.031835 ✅\n",
      "🦅 caa generated on 2021-09-29 14:10:06.184811 ✅\n",
      "🦅 abc generated on 2021-09-29 14:10:06.566724 ✅\n",
      "🚨 Someone tried to generate aaa again on 2021-09-29 14:10:06.567184 🚨\n",
      "🦅 aba generated on 2021-09-29 14:10:06.788160 ✅\n"
     ]
    },
    {
     "data": {
      "text/plain": [
       "[None,\n",
       " None,\n",
       " None,\n",
       " None,\n",
       " None,\n",
       " None,\n",
       " None,\n",
       " None,\n",
       " None,\n",
       " None,\n",
       " None,\n",
       " None,\n",
       " None,\n",
       " None,\n",
       " None,\n",
       " None,\n",
       " None,\n",
       " None,\n",
       " None,\n",
       " None,\n",
       " None,\n",
       " None,\n",
       " None,\n",
       " None,\n",
       " None,\n",
       " None,\n",
       " None,\n",
       " None,\n",
       " None,\n",
       " None,\n",
       " None,\n",
       " None,\n",
       " None,\n",
       " None,\n",
       " None,\n",
       " None]"
      ]
     },
     "execution_count": 5,
     "metadata": {},
     "output_type": "execute_result"
    }
   ],
   "source": [
    "[generator.writeImage(eagle) for eagle in eagles]\n"
   ]
  },
  {
   "cell_type": "code",
   "execution_count": null,
   "id": "bdd534b6-5213-4b8d-8e48-0f7116429c29",
   "metadata": {},
   "outputs": [],
   "source": []
  }
 ],
 "metadata": {
  "kernelspec": {
   "display_name": "Python 3",
   "language": "python",
   "name": "python3"
  },
  "language_info": {
   "codemirror_mode": {
    "name": "ipython",
    "version": 3
   },
   "file_extension": ".py",
   "mimetype": "text/x-python",
   "name": "python",
   "nbconvert_exporter": "python",
   "pygments_lexer": "ipython3",
   "version": "3.9.5"
  }
 },
 "nbformat": 4,
 "nbformat_minor": 5
}
