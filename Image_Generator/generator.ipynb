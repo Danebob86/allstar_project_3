{
 "cells": [
  {
   "cell_type": "code",
   "execution_count": 1,
   "id": "86793b5f-f867-4ea9-8818-156f18162b99",
   "metadata": {},
   "outputs": [],
   "source": [
    "import classes\n",
    "from classes import Eagle\n",
    "import firstLayer, secondLayer, thirdLayer"
   ]
  },
  {
   "cell_type": "code",
   "execution_count": 2,
   "id": "a085801a-77d4-4091-be26-0628ecbe6213",
   "metadata": {},
   "outputs": [],
   "source": [
    "e1 = Eagle('aaa')"
   ]
  },
  {
   "cell_type": "code",
   "execution_count": 3,
   "id": "98731e25-1f77-4539-842d-06b60baee223",
   "metadata": {},
   "outputs": [
    {
     "data": {
      "text/plain": [
       "'aaa'"
      ]
     },
     "execution_count": 3,
     "metadata": {},
     "output_type": "execute_result"
    }
   ],
   "source": [
    "e1.code"
   ]
  },
  {
   "cell_type": "code",
   "execution_count": 4,
   "id": "e37ccdc7-e1c6-4d01-ac30-d545280b7ae4",
   "metadata": {},
   "outputs": [
    {
     "name": "stdout",
     "output_type": "stream",
     "text": [
      "{'body': 'a', 'head': 'a', 'hat': 'a'}\n"
     ]
    }
   ],
   "source": [
    "print(vars(e1.image))"
   ]
  },
  {
   "cell_type": "code",
   "execution_count": 5,
   "id": "564bdb32-b576-4f39-a6b2-7859bfb9bd0f",
   "metadata": {
    "tags": []
   },
   "outputs": [
    {
     "data": {
      "text/plain": [
       "'a'"
      ]
     },
     "execution_count": 5,
     "metadata": {},
     "output_type": "execute_result"
    }
   ],
   "source": [
    "e1.image.head"
   ]
  },
  {
   "cell_type": "code",
   "execution_count": 6,
   "id": "f838ffca-3cd5-411e-a277-fc2edd95d04c",
   "metadata": {},
   "outputs": [],
   "source": [
    "classes.getImage2('aaa')"
   ]
  },
  {
   "cell_type": "code",
   "execution_count": null,
   "id": "d5d2b86d-e7a3-4cbd-8f2d-0d60a86e7087",
   "metadata": {},
   "outputs": [],
   "source": []
  },
  {
   "cell_type": "code",
   "execution_count": null,
   "id": "ea664040-7b34-4f0b-9971-18621aae7fb1",
   "metadata": {},
   "outputs": [],
   "source": []
  },
  {
   "cell_type": "code",
   "execution_count": null,
   "id": "330a0653-f57d-455f-9be6-a8234bac79ac",
   "metadata": {},
   "outputs": [],
   "source": []
  },
  {
   "cell_type": "code",
   "execution_count": null,
   "id": "885a879a-f207-4951-a121-0810341078b3",
   "metadata": {},
   "outputs": [],
   "source": []
  },
  {
   "cell_type": "code",
   "execution_count": null,
   "id": "d4b430ad-fb28-4129-8d79-e0ecb5e95ba7",
   "metadata": {},
   "outputs": [],
   "source": []
  },
  {
   "cell_type": "code",
   "execution_count": null,
   "id": "2488898d-9d01-4291-9445-f3c8f0ebfbd2",
   "metadata": {},
   "outputs": [],
   "source": []
  },
  {
   "cell_type": "code",
   "execution_count": null,
   "id": "b34bbad1-d813-47ff-bc57-82051631ef40",
   "metadata": {},
   "outputs": [],
   "source": []
  }
 ],
 "metadata": {
  "kernelspec": {
   "display_name": "Python 3",
   "language": "python",
   "name": "python3"
  },
  "language_info": {
   "codemirror_mode": {
    "name": "ipython",
    "version": 3
   },
   "file_extension": ".py",
   "mimetype": "text/x-python",
   "name": "python",
   "nbconvert_exporter": "python",
   "pygments_lexer": "ipython3",
   "version": "3.9.5"
  }
 },
 "nbformat": 4,
 "nbformat_minor": 5
}
