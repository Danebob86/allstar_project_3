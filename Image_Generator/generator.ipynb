{
 "cells": [
  {
   "cell_type": "code",
   "execution_count": null,
   "id": "86793b5f-f867-4ea9-8818-156f18162b99",
   "metadata": {},
   "outputs": [],
   "source": []
  },
  {
   "cell_type": "code",
   "execution_count": 1,
   "id": "ff6ee5d1-23ce-453b-899e-37ec61ff37c9",
   "metadata": {},
   "outputs": [],
   "source": [
    "import itertools"
   ]
  },
  {
   "cell_type": "code",
   "execution_count": null,
   "id": "2aff616d-4b2f-4489-bce5-996d52cf6799",
   "metadata": {},
   "outputs": [],
   "source": []
  },
  {
   "cell_type": "code",
   "execution_count": null,
   "id": "d4bc9917-a5e3-4744-942e-3b771cbeb0e4",
   "metadata": {},
   "outputs": [],
   "source": []
  },
  {
   "cell_type": "code",
   "execution_count": null,
   "id": "e92d301e-2845-453a-a9ad-96fe2579f088",
   "metadata": {},
   "outputs": [],
   "source": []
  },
  {
   "cell_type": "code",
   "execution_count": null,
   "id": "07c9d671-10fd-4993-a066-3b7d133692fd",
   "metadata": {},
   "outputs": [],
   "source": []
  },
  {
   "cell_type": "code",
   "execution_count": null,
   "id": "5762103f-fe7f-4bcc-8d31-bf84690ec601",
   "metadata": {},
   "outputs": [],
   "source": []
  },
  {
   "cell_type": "code",
   "execution_count": 2,
   "id": "46ba9362-5fcd-4738-97b7-3829f5029c06",
   "metadata": {},
   "outputs": [],
   "source": [
    "res = [''.join(eagle) for eagle in itertools.product('abcx', repeat=3)]\n"
   ]
  },
  {
   "cell_type": "code",
   "execution_count": 3,
   "id": "65992d68-4f44-43ee-9b26-bb3d0b988149",
   "metadata": {},
   "outputs": [],
   "source": [
    "f = open(\"SVGs/mean.txt\", \"r\")\n",
    "f = f.read()\n",
    "import classes\n",
    "from classes import bodies, heads, hats, opening, closing"
   ]
  },
  {
   "cell_type": "code",
   "execution_count": 4,
   "id": "e73b3ba9-8f52-4bd9-8228-9007d3022d8c",
   "metadata": {},
   "outputs": [],
   "source": [
    "image = {}\n",
    "image.update(a = f)"
   ]
  },
  {
   "cell_type": "code",
   "execution_count": 5,
   "id": "dd15461f-9f04-4b9c-ae0f-7eca0c25e21d",
   "metadata": {},
   "outputs": [],
   "source": [
    "file = open(f'SVGs/mean.svg', 'w')\n",
    "file.write(opening)\n",
    "file.write(image['a'])\n",
    "file.write(closing)\n",
    "file.close()"
   ]
  },
  {
   "cell_type": "code",
   "execution_count": 6,
   "id": "5380eddc-99e2-4b99-876d-484374d4f798",
   "metadata": {},
   "outputs": [],
   "source": [
    "import eagleXML"
   ]
  },
  {
   "cell_type": "code",
   "execution_count": 7,
   "id": "9ddea96d-6aef-4b81-a7fe-881a9a60d8d5",
   "metadata": {},
   "outputs": [],
   "source": [
    "file = open(f'SVGs/mean.svg', 'w')\n",
    "file.write(eagleXML.opening)\n",
    "file.write(eagleXML.backgrounds['a'])\n",
    "file.write(eagleXML.bodies['b'])\n",
    "file.write(eagleXML.options['c'])\n",
    "file.write(eagleXML.closing)\n",
    "file.close()"
   ]
  },
  {
   "cell_type": "code",
   "execution_count": 8,
   "id": "d8ec101c-f50b-4890-80fb-94eb57486623",
   "metadata": {},
   "outputs": [],
   "source": [
    "import generator"
   ]
  },
  {
   "cell_type": "code",
   "execution_count": 9,
   "id": "71ae57f9-7321-495d-9bf0-e362e29c678d",
   "metadata": {},
   "outputs": [
    {
     "name": "stdout",
     "output_type": "stream",
     "text": [
      "error\n"
     ]
    }
   ],
   "source": [
    "generator.writeImage('bbb')"
   ]
  },
  {
   "cell_type": "code",
   "execution_count": 10,
   "id": "923e2588-5093-4059-819e-44b437836497",
   "metadata": {},
   "outputs": [
    {
     "data": {
      "text/plain": [
       "'aax'"
      ]
     },
     "execution_count": 10,
     "metadata": {},
     "output_type": "execute_result"
    }
   ],
   "source": [
    "res[3]"
   ]
  },
  {
   "cell_type": "code",
   "execution_count": 11,
   "id": "7fb8a39f-ab55-4241-a204-9a4927fa50ed",
   "metadata": {},
   "outputs": [],
   "source": [
    "res = [''.join(eagle) for eagle in itertools.product('abcx', repeat=3)]\n",
    "\n",
    "eagles = []\n",
    "\n",
    "for r in res:\n",
    "    if r[1] != 'x':\n",
    "        eagles.append(r)"
   ]
  },
  {
   "cell_type": "code",
   "execution_count": 12,
   "id": "e5ea2c63-7d50-4258-a214-feabf4f2a55c",
   "metadata": {},
   "outputs": [],
   "source": [
    "def generateSet(options, length):\n",
    "    res = [''.join(eagle) for eagle in itertools.product(options, repeat=length)]\n",
    "\n",
    "    eagles = []\n",
    "\n",
    "    for r in res:\n",
    "        if r[1] != 'x':\n",
    "            eagles.append(r)\n",
    "    return eagles"
   ]
  },
  {
   "cell_type": "code",
   "execution_count": 13,
   "id": "fe9ccfb1-9808-4eaf-ae0b-d607ebffb216",
   "metadata": {},
   "outputs": [],
   "source": [
    "# generator.generateSet('abcx', 3)"
   ]
  },
  {
   "cell_type": "code",
   "execution_count": null,
   "id": "e8714792-84d9-4251-b8bb-8aff154f793e",
   "metadata": {},
   "outputs": [],
   "source": []
  }
 ],
 "metadata": {
  "kernelspec": {
   "display_name": "Python 3",
   "language": "python",
   "name": "python3"
  },
  "language_info": {
   "codemirror_mode": {
    "name": "ipython",
    "version": 3
   },
   "file_extension": ".py",
   "mimetype": "text/x-python",
   "name": "python",
   "nbconvert_exporter": "python",
   "pygments_lexer": "ipython3",
   "version": "3.9.5"
  }
 },
 "nbformat": 4,
 "nbformat_minor": 5
}
