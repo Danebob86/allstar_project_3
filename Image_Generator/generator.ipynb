{
 "cells": [
  {
   "cell_type": "code",
   "execution_count": 1,
   "id": "86793b5f-f867-4ea9-8818-156f18162b99",
   "metadata": {},
   "outputs": [],
   "source": [
    "from generator import getImage"
   ]
  },
  {
   "cell_type": "code",
   "execution_count": 2,
   "id": "f838ffca-3cd5-411e-a277-fc2edd95d04c",
   "metadata": {},
   "outputs": [],
   "source": [
    "getImage('aaa')"
   ]
  },
  {
   "cell_type": "code",
   "execution_count": 3,
   "id": "d5d2b86d-e7a3-4cbd-8f2d-0d60a86e7087",
   "metadata": {},
   "outputs": [],
   "source": [
    "getImage('baa')"
   ]
  },
  {
   "cell_type": "code",
   "execution_count": 4,
   "id": "ea664040-7b34-4f0b-9971-18621aae7fb1",
   "metadata": {},
   "outputs": [],
   "source": [
    "getImage('aab')"
   ]
  }
 ],
 "metadata": {
  "kernelspec": {
   "display_name": "Python 3",
   "language": "python",
   "name": "python3"
  },
  "language_info": {
   "codemirror_mode": {
    "name": "ipython",
    "version": 3
   },
   "file_extension": ".py",
   "mimetype": "text/x-python",
   "name": "python",
   "nbconvert_exporter": "python",
   "pygments_lexer": "ipython3",
   "version": "3.9.5"
  }
 },
 "nbformat": 4,
 "nbformat_minor": 5
}
