{
 "cells": [
  {
   "cell_type": "code",
   "execution_count": 1,
   "id": "86793b5f-f867-4ea9-8818-156f18162b99",
   "metadata": {},
   "outputs": [],
   "source": [
    "import classes\n",
    "from classes import Eagle\n",
    "import paths"
   ]
  },
  {
   "cell_type": "code",
   "execution_count": 2,
   "id": "a085801a-77d4-4091-be26-0628ecbe6213",
   "metadata": {},
   "outputs": [],
   "source": [
    "e1 = Eagle('aaa')"
   ]
  },
  {
   "cell_type": "code",
   "execution_count": 3,
   "id": "98731e25-1f77-4539-842d-06b60baee223",
   "metadata": {},
   "outputs": [
    {
     "data": {
      "text/plain": [
       "'aaa'"
      ]
     },
     "execution_count": 3,
     "metadata": {},
     "output_type": "execute_result"
    }
   ],
   "source": [
    "e1.code"
   ]
  },
  {
   "cell_type": "code",
   "execution_count": 9,
   "id": "e37ccdc7-e1c6-4d01-ac30-d545280b7ae4",
   "metadata": {},
   "outputs": [
    {
     "name": "stdout",
     "output_type": "stream",
     "text": [
      "{'code': 'aaa', 'stats': <classes.Stats object at 0x7fd4ac05c520>, 'image': <classes.Image object at 0x7fd4ac05c490>}\n"
     ]
    }
   ],
   "source": [
    "print(vars(e1))"
   ]
  },
  {
   "cell_type": "code",
   "execution_count": 10,
   "id": "564bdb32-b576-4f39-a6b2-7859bfb9bd0f",
   "metadata": {},
   "outputs": [
    {
     "data": {
      "text/plain": [
       "'aaaa'"
      ]
     },
     "execution_count": 10,
     "metadata": {},
     "output_type": "execute_result"
    }
   ],
   "source": [
    "e1.image.head"
   ]
  },
  {
   "cell_type": "code",
   "execution_count": null,
   "id": "2488898d-9d01-4291-9445-f3c8f0ebfbd2",
   "metadata": {},
   "outputs": [],
   "source": []
  }
 ],
 "metadata": {
  "kernelspec": {
   "display_name": "Python 3",
   "language": "python",
   "name": "python3"
  },
  "language_info": {
   "codemirror_mode": {
    "name": "ipython",
    "version": 3
   },
   "file_extension": ".py",
   "mimetype": "text/x-python",
   "name": "python",
   "nbconvert_exporter": "python",
   "pygments_lexer": "ipython3",
   "version": "3.9.5"
  }
 },
 "nbformat": 4,
 "nbformat_minor": 5
}
