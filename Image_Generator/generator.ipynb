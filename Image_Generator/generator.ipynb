{
 "cells": [
  {
   "cell_type": "code",
   "execution_count": 1,
   "id": "86793b5f-f867-4ea9-8818-156f18162b99",
   "metadata": {},
   "outputs": [],
   "source": [
    "import classes\n",
    "from classes import Eagle\n",
    "import paths"
   ]
  },
  {
   "cell_type": "code",
   "execution_count": 2,
   "id": "a085801a-77d4-4091-be26-0628ecbe6213",
   "metadata": {},
   "outputs": [],
   "source": [
    "e1 = Eagle('aaa')"
   ]
  },
  {
   "cell_type": "code",
   "execution_count": 3,
   "id": "98731e25-1f77-4539-842d-06b60baee223",
   "metadata": {},
   "outputs": [
    {
     "data": {
      "text/plain": [
       "'aaa'"
      ]
     },
     "execution_count": 3,
     "metadata": {},
     "output_type": "execute_result"
    }
   ],
   "source": [
    "e1.code"
   ]
  },
  {
   "cell_type": "code",
   "execution_count": 11,
   "id": "e37ccdc7-e1c6-4d01-ac30-d545280b7ae4",
   "metadata": {},
   "outputs": [
    {
     "name": "stdout",
     "output_type": "stream",
     "text": [
      "{'attack': 1, 'defent': 1, 'vitality': 1}\n"
     ]
    }
   ],
   "source": [
    "print(vars(e1.stats))"
   ]
  },
  {
   "cell_type": "code",
   "execution_count": 5,
   "id": "204f5ca1-0489-400b-b16c-a4b35e108656",
   "metadata": {},
   "outputs": [
    {
     "data": {
      "text/plain": [
       "{'Head': 'aaaa', 'Body': 'aaaa', 'Hat': 'aaaa'}"
      ]
     },
     "execution_count": 5,
     "metadata": {},
     "output_type": "execute_result"
    }
   ],
   "source": [
    "e1.image"
   ]
  },
  {
   "cell_type": "code",
   "execution_count": 6,
   "id": "a050c6fd-0275-4e6e-996a-746a8be13897",
   "metadata": {},
   "outputs": [],
   "source": [
    "e2 = Eagle('abc')"
   ]
  },
  {
   "cell_type": "code",
   "execution_count": 7,
   "id": "d17759e3-acd3-41e7-b23d-3d8c8434ed17",
   "metadata": {},
   "outputs": [
    {
     "data": {
      "text/plain": [
       "<classes.Stats at 0x7f4778646eb0>"
      ]
     },
     "execution_count": 7,
     "metadata": {},
     "output_type": "execute_result"
    }
   ],
   "source": [
    "e2.stats"
   ]
  },
  {
   "cell_type": "code",
   "execution_count": 8,
   "id": "05705e84-3883-48e7-9afe-2ef24c73a6f5",
   "metadata": {},
   "outputs": [
    {
     "data": {
      "text/plain": [
       "{'Head': 'aaaa', 'Body': 'bbbb', 'Hat': 'cccc'}"
      ]
     },
     "execution_count": 8,
     "metadata": {},
     "output_type": "execute_result"
    }
   ],
   "source": [
    "e2.image"
   ]
  },
  {
   "cell_type": "code",
   "execution_count": null,
   "id": "564bdb32-b576-4f39-a6b2-7859bfb9bd0f",
   "metadata": {},
   "outputs": [],
   "source": []
  }
 ],
 "metadata": {
  "kernelspec": {
   "display_name": "Python 3",
   "language": "python",
   "name": "python3"
  },
  "language_info": {
   "codemirror_mode": {
    "name": "ipython",
    "version": 3
   },
   "file_extension": ".py",
   "mimetype": "text/x-python",
   "name": "python",
   "nbconvert_exporter": "python",
   "pygments_lexer": "ipython3",
   "version": "3.9.5"
  }
 },
 "nbformat": 4,
 "nbformat_minor": 5
}
